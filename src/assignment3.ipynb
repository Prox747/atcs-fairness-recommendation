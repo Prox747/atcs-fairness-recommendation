{
 "cells": [
  {
   "cell_type": "markdown",
   "metadata": {},
   "source": [
    "### *Assignment 3*: Sequential Recommendations\n",
    "---"
   ]
  },
  {
   "cell_type": "code",
   "execution_count": 1,
   "metadata": {},
   "outputs": [],
   "source": [
    "from sequential_recommendation import SequentialRecommendation\n",
    "from group_recommendation import GroupRecommendation\n",
    "from user_recommendation import UserRecommendation\n",
    "from dataset import Dataset\n",
    "import pandas as pd\n",
    "\n",
    "ratings_df = pd.read_csv(Dataset.get_dataset_path() + 'ratings.csv')\n",
    "ds = Dataset(ratings_df)\n",
    "\n",
    "group_recommendation = GroupRecommendation(UserRecommendation(ds))\n",
    "\n",
    "sequential_recommendation = SequentialRecommendation(group_recommendation)\n",
    "\n",
    "userGroup = [1, 2, 3, 4, 5, 6, 7, 8, 9, 10]\n"
   ]
  },
  {
   "cell_type": "markdown",
   "metadata": {},
   "source": [
    "Motivated by the sequential methods we discussed in class, the goal of the third\n",
    "assignment is to design and implement a new method for producing sequential group\n",
    "recommendations.\n",
    "\n",
    "Also, provide detailed explanations and clarifications about why the\n",
    "method you propose works well for the case of sequential group recommendations.\n",
    "\n",
    "Hint: There is no need to design a method from scratch. For the needs of this assignment,\n",
    "you can suggest simple modifications of the existing approach, e.g., by proposing and\n",
    "using alternatives for group aggregation that ensure good results for the group.\n",
    "\n",
    "---\n",
    "\n",
    "Produce a group of 3 users, and for this group, show the top-10 recommendations in 3\n",
    "different sequences, i.e., the 10 movies with the highest prediction scores in 3 rounds,\n",
    "using the MovieLens 100K rating dataset."
   ]
  },
  {
   "cell_type": "code",
   "execution_count": 2,
   "metadata": {},
   "outputs": [
    {
     "name": "stdout",
     "output_type": "stream",
     "text": [
      "Recommendation sequence 0:\n",
      "   movieId  predicition\n",
      "0     2248     7.995803\n",
      "1       29     7.589071\n",
      "2    60069     6.603201\n",
      "3     3681     6.374858\n",
      "4     1303     6.350580\n",
      "5    81845     6.254393\n",
      "6      334     6.186056\n",
      "7     1273     5.972605\n",
      "8     1276     5.843850\n",
      "9     1288     5.811967\n",
      "Recommendation sequence 1:\n",
      "   movieId  predicition\n",
      "0       29     7.576031\n",
      "1     1273     5.796488\n",
      "2     2248     5.753807\n",
      "3    81845     4.599966\n",
      "4      334     4.559306\n",
      "5     1288     3.062702\n",
      "6     1303     2.378456\n",
      "7     3681     2.050061\n",
      "8     1276     0.602388\n",
      "9    60069     0.432409\n",
      "Recommendation sequence 2:\n",
      "   movieId  predicition\n",
      "0     1303     5.833755\n",
      "1     1276     5.527044\n",
      "2     2248     5.253868\n",
      "3     3681     4.341933\n",
      "4      334     4.216941\n",
      "5    60069     3.238729\n",
      "6    81845     2.893807\n",
      "7     1273     2.797118\n",
      "8       29     2.106883\n",
      "9     1288     0.421024\n",
      "Recommendation sequence 3:\n",
      "   movieId  predicition\n",
      "0     2248     6.234282\n",
      "1       29     5.343877\n",
      "2    60069     5.244187\n",
      "3     1273     5.103760\n",
      "4    81845     4.559681\n",
      "5     1276     4.509453\n",
      "6     3681     3.026511\n",
      "7      334     2.766740\n",
      "8     1303     2.653011\n",
      "9     1288     0.443335\n",
      "Recommendation sequence 4:\n",
      "   movieId  predicition\n",
      "0    60069     6.007138\n",
      "1       29     4.822010\n",
      "2      334     3.732438\n",
      "3     1303     3.591079\n",
      "4     2248     3.316930\n",
      "5     1273     3.051369\n",
      "6     1288     2.536345\n",
      "7     1276     2.378982\n",
      "8    81845     1.055640\n",
      "9     3681     0.933120\n"
     ]
    }
   ],
   "source": [
    "reccomendation_sequence = sequential_recommendation.get_sequential_recommendations_for_group(userGroup)\n",
    "\n",
    "for seq_num, group_pred in reccomendation_sequence.items():\n",
    "    print(f'Recommendation sequence {seq_num}:')\n",
    "    print(pd.DataFrame(group_pred, columns=['movieId', 'predicition']))"
   ]
  }
 ],
 "metadata": {
  "kernelspec": {
   "display_name": ".venv",
   "language": "python",
   "name": "python3"
  },
  "language_info": {
   "codemirror_mode": {
    "name": "ipython",
    "version": 3
   },
   "file_extension": ".py",
   "mimetype": "text/x-python",
   "name": "python",
   "nbconvert_exporter": "python",
   "pygments_lexer": "ipython3",
   "version": "3.11.3"
  }
 },
 "nbformat": 4,
 "nbformat_minor": 2
}
