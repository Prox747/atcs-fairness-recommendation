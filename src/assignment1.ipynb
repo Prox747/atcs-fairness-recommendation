{
 "cells": [
  {
   "cell_type": "markdown",
   "metadata": {},
   "source": [
    "### *Assignment 1*: User-based Collaborative Filtering Recommendations"
   ]
  },
  {
   "cell_type": "code",
   "execution_count": 1,
   "metadata": {},
   "outputs": [],
   "source": [
    "import user_based_collaborative_filtering as ubcf\n",
    "import dataset\n",
    "import pandas\n",
    "\n",
    "ml = ubcf.UserBasedCollaborativeFiltering()\n",
    "ds = dataset.Dataset()"
   ]
  },
  {
   "cell_type": "markdown",
   "metadata": {},
   "source": [
    "**(a)** Download the MovieLens 100K rating dataset from https://grouplens.org/datasets/\n",
    "movielens/ (the small dataset recommended for education and development). Read the\n",
    "dataset, display the first few rows to understand it, and display the count of ratings (rows)\n",
    "in the dataset to be sure that you download it correctly"
   ]
  },
  {
   "cell_type": "code",
   "execution_count": 2,
   "metadata": {},
   "outputs": [
    {
     "name": "stdout",
     "output_type": "stream",
     "text": [
      "Max 5 csv rows displayed per file.\n",
      "\n",
      "Display movies.csv\n",
      "Number of elements:  9742\n",
      "First elements:     movieId                               title  \\\n",
      "0        1                    Toy Story (1995)   \n",
      "1        2                      Jumanji (1995)   \n",
      "2        3             Grumpier Old Men (1995)   \n",
      "3        4            Waiting to Exhale (1995)   \n",
      "4        5  Father of the Bride Part II (1995)   \n",
      "\n",
      "                                        genres  \n",
      "0  Adventure|Animation|Children|Comedy|Fantasy  \n",
      "1                   Adventure|Children|Fantasy  \n",
      "2                               Comedy|Romance  \n",
      "3                         Comedy|Drama|Romance  \n",
      "4                                       Comedy  \n",
      "\n",
      "\n",
      "Display ratings.csv\n",
      "Number of elements:  100836\n",
      "First elements:     userId  movieId  rating  timestamp\n",
      "0       1        1     4.0  964982703\n",
      "1       1        3     4.0  964981247\n",
      "2       1        6     4.0  964982224\n",
      "3       1       47     5.0  964983815\n",
      "4       1       50     5.0  964982931\n",
      "\n",
      "\n",
      "There are 100836 ratings in the dataset.\n"
     ]
    }
   ],
   "source": [
    "ds.print_dataset_first_rows()"
   ]
  }
 ],
 "metadata": {
  "language_info": {
   "name": "python"
  }
 },
 "nbformat": 4,
 "nbformat_minor": 2
}
