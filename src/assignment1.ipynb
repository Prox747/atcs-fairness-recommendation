{
 "cells": [
  {
   "cell_type": "markdown",
   "metadata": {},
   "source": [
    "### *Assignment 1*: User-based Collaborative Filtering Recommendations"
   ]
  },
  {
   "cell_type": "code",
   "execution_count": null,
   "metadata": {},
   "outputs": [],
   "source": [
    "import user_based_collaborative_filtering as ubcf\n",
    "import dataset\n",
    "import pandas\n",
    "\n",
    "ml = ubcf.UserBasedCollaborativeFiltering()\n",
    "ds = dataset.Dataset()"
   ]
  },
  {
   "cell_type": "markdown",
   "metadata": {},
   "source": [
    "**(a)** Download the MovieLens 100K rating dataset from https://grouplens.org/datasets/\n",
    "movielens/ (the small dataset recommended for education and development). Read the\n",
    "dataset, display the first few rows to understand it, and display the count of ratings (rows)\n",
    "in the dataset to be sure that you download it correctly"
   ]
  },
  {
   "cell_type": "code",
   "execution_count": null,
   "metadata": {},
   "outputs": [],
   "source": [
    "ds.print_dataset_first_rows()"
   ]
  },
  {
   "cell_type": "markdown",
   "metadata": {},
   "source": [
    "**(b)** Implement the user-based collaborative filtering approach, using the Pearson\n",
    "correlation function for computing similarities between users, and\n",
    "\n",
    "**(c)** the prediction function presented in class for predicting movies scores."
   ]
  },
  {
   "cell_type": "code",
   "execution_count": null,
   "metadata": {},
   "outputs": [],
   "source": [
    "userA = 1\n",
    "userB = 10\n",
    "movieP = 1"
   ]
  },
  {
   "cell_type": "code",
   "execution_count": null,
   "metadata": {},
   "outputs": [],
   "source": [
    "sim = ml.sim_pcc(userA, userB)\n",
    "print(f'Pearson correlation coefficient between user {userA} and {userB} is {sim}')"
   ]
  },
  {
   "cell_type": "markdown",
   "metadata": {},
   "source": [
    "$$sim^{PCC}(a, b) = \\frac{\\sum_{p \\in P} (r_{a,p} - \\bar{r_a})(r_{b,p} - \\bar{r_b})}{\\sqrt{\\sum_{p \\in P}(r_{a,p} - \\bar{r_a})^2}\\sqrt{\\sum_{p \\in P}(r_{b,p} - \\bar{r_b})^2}}$$"
   ]
  },
  {
   "cell_type": "code",
   "execution_count": null,
   "metadata": {},
   "outputs": [],
   "source": [
    "neighbors = ml.top_n_similar_users(30)\n",
    "prediction = ml.prediction_from_neighbors(userA, movieP, neighbors)\n",
    "print(f'Prediction for the rating of movie {movieP} rating by user {userA} is {prediction}')"
   ]
  },
  {
   "cell_type": "markdown",
   "metadata": {},
   "source": [
    "$$pred(a,p)=\\bar{r_a} + \\frac{\\sum_{b \\in N}sim(a,b)\\cdot(r_{b,p}-\\bar{r_b})}{\\sum_{b \\in N}sim(a,b)}$$"
   ]
  }
 ],
 "metadata": {
  "language_info": {
   "name": "python"
  }
 },
 "nbformat": 4,
 "nbformat_minor": 2
}
