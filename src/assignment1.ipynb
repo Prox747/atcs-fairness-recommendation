{
 "cells": [
  {
   "cell_type": "markdown",
   "metadata": {},
   "source": [
    "### *Assignment 1*: User-based Collaborative Filtering Recommendations"
   ]
  },
  {
   "cell_type": "code",
   "execution_count": 1,
   "metadata": {},
   "outputs": [],
   "source": [
    "from user_recommendation import UserRecommendation\n",
    "from dataset import Dataset\n",
    "import pandas"
   ]
  },
  {
   "cell_type": "markdown",
   "metadata": {},
   "source": [
    "**(a)** Download the MovieLens 100K rating dataset from https://grouplens.org/datasets/movielens/ \n",
    "(the small dataset recommended for education and development). Read the\n",
    "dataset, display the first few rows to understand it, and display the count of ratings (rows)\n",
    "in the dataset to be sure that you download it correctly"
   ]
  },
  {
   "cell_type": "code",
   "execution_count": 2,
   "metadata": {},
   "outputs": [
    {
     "name": "stdout",
     "output_type": "stream",
     "text": [
      "Max 5 csv rows displayed per file.\n",
      "\n",
      "Display movies.csv\n",
      "Number of elements:  9742\n",
      "First elements:     movieId                               title  \\\n",
      "0        1                    Toy Story (1995)   \n",
      "1        2                      Jumanji (1995)   \n",
      "2        3             Grumpier Old Men (1995)   \n",
      "3        4            Waiting to Exhale (1995)   \n",
      "4        5  Father of the Bride Part II (1995)   \n",
      "\n",
      "                                        genres  \n",
      "0  Adventure|Animation|Children|Comedy|Fantasy  \n",
      "1                   Adventure|Children|Fantasy  \n",
      "2                               Comedy|Romance  \n",
      "3                         Comedy|Drama|Romance  \n",
      "4                                       Comedy  \n",
      "\n",
      "\n",
      "Display ratings.csv\n",
      "Number of elements:  100836\n",
      "First elements:     userId  movieId  rating  timestamp\n",
      "0       1        1     4.0  964982703\n",
      "1       1        3     4.0  964981247\n",
      "2       1        6     4.0  964982224\n",
      "3       1       47     5.0  964983815\n",
      "4       1       50     5.0  964982931\n",
      "\n",
      "\n"
     ]
    }
   ],
   "source": [
    "ds = Dataset()\n",
    "print('There are ', len(ds.movies_df), ' movies and ', len(ds.ratings_df), ' ratings')"
   ]
  },
  {
   "cell_type": "code",
   "execution_count": 13,
   "metadata": {},
   "outputs": [
    {
     "data": {
      "text/html": [
       "<div>\n",
       "<style scoped>\n",
       "    .dataframe tbody tr th:only-of-type {\n",
       "        vertical-align: middle;\n",
       "    }\n",
       "\n",
       "    .dataframe tbody tr th {\n",
       "        vertical-align: top;\n",
       "    }\n",
       "\n",
       "    .dataframe thead th {\n",
       "        text-align: right;\n",
       "    }\n",
       "</style>\n",
       "<table border=\"1\" class=\"dataframe\">\n",
       "  <thead>\n",
       "    <tr style=\"text-align: right;\">\n",
       "      <th></th>\n",
       "      <th>movieId</th>\n",
       "      <th>title</th>\n",
       "      <th>genres</th>\n",
       "    </tr>\n",
       "  </thead>\n",
       "  <tbody>\n",
       "    <tr>\n",
       "      <th>0</th>\n",
       "      <td>1</td>\n",
       "      <td>Toy Story (1995)</td>\n",
       "      <td>[Adventure, Animation, Children, Comedy, Fantasy]</td>\n",
       "    </tr>\n",
       "    <tr>\n",
       "      <th>1</th>\n",
       "      <td>2</td>\n",
       "      <td>Jumanji (1995)</td>\n",
       "      <td>[Adventure, Children, Fantasy]</td>\n",
       "    </tr>\n",
       "    <tr>\n",
       "      <th>2</th>\n",
       "      <td>3</td>\n",
       "      <td>Grumpier Old Men (1995)</td>\n",
       "      <td>[Comedy, Romance]</td>\n",
       "    </tr>\n",
       "    <tr>\n",
       "      <th>3</th>\n",
       "      <td>4</td>\n",
       "      <td>Waiting to Exhale (1995)</td>\n",
       "      <td>[Comedy, Drama, Romance]</td>\n",
       "    </tr>\n",
       "    <tr>\n",
       "      <th>4</th>\n",
       "      <td>5</td>\n",
       "      <td>Father of the Bride Part II (1995)</td>\n",
       "      <td>[Comedy]</td>\n",
       "    </tr>\n",
       "  </tbody>\n",
       "</table>\n",
       "</div>"
      ],
      "text/plain": [
       "   movieId                               title  \\\n",
       "0        1                    Toy Story (1995)   \n",
       "1        2                      Jumanji (1995)   \n",
       "2        3             Grumpier Old Men (1995)   \n",
       "3        4            Waiting to Exhale (1995)   \n",
       "4        5  Father of the Bride Part II (1995)   \n",
       "\n",
       "                                              genres  \n",
       "0  [Adventure, Animation, Children, Comedy, Fantasy]  \n",
       "1                     [Adventure, Children, Fantasy]  \n",
       "2                                  [Comedy, Romance]  \n",
       "3                           [Comedy, Drama, Romance]  \n",
       "4                                           [Comedy]  "
      ]
     },
     "execution_count": 13,
     "metadata": {},
     "output_type": "execute_result"
    }
   ],
   "source": [
    "ds.movies_df.head()"
   ]
  },
  {
   "cell_type": "code",
   "execution_count": null,
   "metadata": {},
   "outputs": [],
   "source": [
    "ds.ratings_df.head()"
   ]
  },
  {
   "cell_type": "markdown",
   "metadata": {},
   "source": [
    "**(b)** Implement the user-based collaborative filtering approach, using the Pearson\n",
    "correlation function for computing similarities between users, and\n",
    "\n",
    "**(c)** the prediction function presented in class for predicting movies scores."
   ]
  },
  {
   "cell_type": "code",
   "execution_count": 3,
   "metadata": {},
   "outputs": [],
   "source": [
    "userA = 1\n",
    "userB = 10\n",
    "movieP = 1"
   ]
  },
  {
   "cell_type": "code",
   "execution_count": 9,
   "metadata": {},
   "outputs": [
    {
     "name": "stdout",
     "output_type": "stream",
     "text": [
      "3.504950495049505\n",
      "4.271186440677966\n",
      "-0.13425071320691398\n"
     ]
    },
    {
     "ename": "TypeError",
     "evalue": "unsupported operand type(s) for /: 'NoneType' and 'float'",
     "output_type": "error",
     "traceback": [
      "\u001b[1;31m---------------------------------------------------------------------------\u001b[0m",
      "\u001b[1;31mTypeError\u001b[0m                                 Traceback (most recent call last)",
      "Cell \u001b[1;32mIn[9], line 4\u001b[0m\n\u001b[0;32m      2\u001b[0m \u001b[38;5;28mprint\u001b[39m(UBCF\u001b[38;5;241m.\u001b[39mdataset\u001b[38;5;241m.\u001b[39mget_user_mean_rating(\u001b[38;5;241m234\u001b[39m))\n\u001b[0;32m      3\u001b[0m \u001b[38;5;28mprint\u001b[39m(UBCF\u001b[38;5;241m.\u001b[39mdataset\u001b[38;5;241m.\u001b[39mget_user_mean_rating(\u001b[38;5;241m74\u001b[39m))\n\u001b[1;32m----> 4\u001b[0m \u001b[38;5;28;43mprint\u001b[39;49m\u001b[43m(\u001b[49m\u001b[43m(\u001b[49m\u001b[43m(\u001b[49m\u001b[38;5;241;43m4.0\u001b[39;49m\u001b[43m \u001b[49m\u001b[38;5;241;43m-\u001b[39;49m\u001b[43m \u001b[49m\u001b[38;5;241;43m3.504950495049505\u001b[39;49m\u001b[43m)\u001b[49m\u001b[38;5;241;43m*\u001b[39;49m\u001b[43m(\u001b[49m\u001b[38;5;241;43m4.0\u001b[39;49m\u001b[43m \u001b[49m\u001b[38;5;241;43m-\u001b[39;49m\u001b[43m \u001b[49m\u001b[38;5;241;43m4.271186440677966\u001b[39;49m\u001b[43m)\u001b[49m\u001b[43m)\u001b[49m\u001b[43m)\u001b[49m\u001b[38;5;241;43m/\u001b[39;49m\u001b[43m(\u001b[49m\u001b[38;5;241;43m4.0\u001b[39;49m\u001b[43m \u001b[49m\u001b[38;5;241;43m-\u001b[39;49m\u001b[43m \u001b[49m\u001b[38;5;241;43m3.504950495049505\u001b[39;49m\u001b[43m)\u001b[49m\u001b[38;5;241m*\u001b[39m(\u001b[38;5;241m4.0\u001b[39m \u001b[38;5;241m-\u001b[39m \u001b[38;5;241m4.271186440677966\u001b[39m)\n\u001b[0;32m      5\u001b[0m \u001b[38;5;28mprint\u001b[39m(\u001b[38;5;124mf\u001b[39m\u001b[38;5;124m'\u001b[39m\u001b[38;5;124mPearson correlation coefficient between user \u001b[39m\u001b[38;5;132;01m{\u001b[39;00muserA\u001b[38;5;132;01m}\u001b[39;00m\u001b[38;5;124m and \u001b[39m\u001b[38;5;132;01m{\u001b[39;00muserB\u001b[38;5;132;01m}\u001b[39;00m\u001b[38;5;124m is \u001b[39m\u001b[38;5;132;01m{\u001b[39;00msim\u001b[38;5;132;01m}\u001b[39;00m\u001b[38;5;124m'\u001b[39m)\n",
      "\u001b[1;31mTypeError\u001b[0m: unsupported operand type(s) for /: 'NoneType' and 'float'"
     ]
    }
   ],
   "source": [
    "sim = UserRecommendation.sim_pcc(234, 74)\n",
    "print(f'Pearson correlation coefficient between user {userA} and {userB} is {sim}')"
   ]
  },
  {
   "cell_type": "markdown",
   "metadata": {},
   "source": [
    "$$sim^{PCC}(a, b) = \\frac{\\sum_{p \\in P} (r_{a,p} - \\bar{r_a})(r_{b,p} - \\bar{r_b})}{\\sqrt{\\sum_{p \\in P}(r_{a,p} - \\bar{r_a})^2}\\sqrt{\\sum_{p \\in P}(r_{b,p} - \\bar{r_b})^2}}$$"
   ]
  },
  {
   "cell_type": "code",
   "execution_count": 5,
   "metadata": {},
   "outputs": [
    {
     "name": "stdout",
     "output_type": "stream",
     "text": [
      "Prediction for the rating of movie 1 rating by user 1 is 4.5574254096356075\n"
     ]
    }
   ],
   "source": [
    "neighbors = UserRecommendation.top_n_similar_users(30)\n",
    "prediction = UserRecommendation.prediction_from_neighbors(userA, movieP, neighbors)\n",
    "print(f'Prediction for the rating of movie {movieP} rating by user {userA} is {prediction}')"
   ]
  },
  {
   "cell_type": "markdown",
   "metadata": {},
   "source": [
    "$$pred(a,p)=\\bar{r_a} + \\frac{\\sum_{b \\in N}sim(a,b)\\cdot(r_{b,p}-\\bar{r_b})}{\\sum_{b \\in N}sim(a,b)}$$"
   ]
  },
  {
   "cell_type": "markdown",
   "metadata": {},
   "source": [
    "**(d)** Select a user from the dataset, and for this user, show the 10 most similar users and\n",
    "the 10 most relevant movies that the recommender suggests."
   ]
  },
  {
   "cell_type": "code",
   "execution_count": 6,
   "metadata": {},
   "outputs": [
    {
     "name": "stdout",
     "output_type": "stream",
     "text": [
      " userId  similarity\n",
      "     77    1.000000\n",
      "     12    1.000000\n",
      "     85    1.000000\n",
      "    253    1.000000\n",
      "    291    1.000000\n",
      "    358    1.000000\n",
      "    388    1.000000\n",
      "      2    1.000000\n",
      "    146    0.999050\n",
      "    278    0.971061\n"
     ]
    }
   ],
   "source": [
    "similar_users = UserRecommendation.top_n_similar_users(userA, n=10)\n",
    "sim_users_df = pandas.DataFrame(similar_users, columns=['userId', 'similarity'])\n",
    "\n",
    "print(sim_users_df.to_string(index=False))"
   ]
  },
  {
   "cell_type": "code",
   "execution_count": 7,
   "metadata": {},
   "outputs": [
    {
     "name": "stdout",
     "output_type": "stream",
     "text": [
      " movieId  prediction\n",
      "     319    6.769157\n",
      "    3567    6.726379\n",
      "     555    6.641379\n",
      "     913    6.252743\n",
      "   55276    6.252743\n",
      "   30803    6.225754\n",
      "    3972    6.223522\n",
      "   27611    6.223522\n",
      "    5066    6.110282\n",
      "   42728    6.110282\n"
     ]
    }
   ],
   "source": [
    "top_rec = UserRecommendation.top_n_recommendations(userA)\n",
    "top_rec_df = pandas.DataFrame(top_rec, columns=['movieId', 'prediction'])\n",
    "\n",
    "print(top_rec_df.to_string(index=False))"
   ]
  }
 ],
 "metadata": {
  "kernelspec": {
   "display_name": ".venv",
   "language": "python",
   "name": "python3"
  },
  "language_info": {
   "codemirror_mode": {
    "name": "ipython",
    "version": 3
   },
   "file_extension": ".py",
   "mimetype": "text/x-python",
   "name": "python",
   "nbconvert_exporter": "python",
   "pygments_lexer": "ipython3",
   "version": "3.11.7"
  }
 },
 "nbformat": 4,
 "nbformat_minor": 2
}
