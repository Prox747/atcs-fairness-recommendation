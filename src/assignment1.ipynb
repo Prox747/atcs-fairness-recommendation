{
 "cells": [
  {
   "cell_type": "markdown",
   "metadata": {},
   "source": [
    "### *Assignment 1*: User-based Collaborative Filtering Recommendations"
   ]
  },
  {
   "cell_type": "code",
   "execution_count": 1,
   "metadata": {},
   "outputs": [],
   "source": [
    "from user_based_collaborative_filtering import UBCF\n",
    "import pandas"
   ]
  },
  {
   "cell_type": "markdown",
   "metadata": {},
   "source": [
    "**(a)** Download the MovieLens 100K rating dataset from https://grouplens.org/datasets/movielens/ \n",
    "(the small dataset recommended for education and development). Read the\n",
    "dataset, display the first few rows to understand it, and display the count of ratings (rows)\n",
    "in the dataset to be sure that you download it correctly"
   ]
  },
  {
   "cell_type": "code",
   "execution_count": 2,
   "metadata": {},
   "outputs": [
    {
     "name": "stdout",
     "output_type": "stream",
     "text": [
      "Max 5 csv rows displayed per file.\n",
      "\n",
      "Display movies.csv\n",
      "Number of elements:  9742\n",
      "First elements:     movieId                               title  \\\n",
      "0        1                    Toy Story (1995)   \n",
      "1        2                      Jumanji (1995)   \n",
      "2        3             Grumpier Old Men (1995)   \n",
      "3        4            Waiting to Exhale (1995)   \n",
      "4        5  Father of the Bride Part II (1995)   \n",
      "\n",
      "                                        genres  \n",
      "0  Adventure|Animation|Children|Comedy|Fantasy  \n",
      "1                   Adventure|Children|Fantasy  \n",
      "2                               Comedy|Romance  \n",
      "3                         Comedy|Drama|Romance  \n",
      "4                                       Comedy  \n",
      "\n",
      "\n",
      "Display ratings.csv\n",
      "Number of elements:  100836\n",
      "First elements:     userId  movieId  rating  timestamp\n",
      "0       1        1     4.0  964982703\n",
      "1       1        3     4.0  964981247\n",
      "2       1        6     4.0  964982224\n",
      "3       1       47     5.0  964983815\n",
      "4       1       50     5.0  964982931\n",
      "\n",
      "\n"
     ]
    }
   ],
   "source": [
    "UBCF.ds.print_dataset_first_rows()"
   ]
  },
  {
   "cell_type": "markdown",
   "metadata": {},
   "source": [
    "**(b)** Implement the user-based collaborative filtering approach, using the Pearson\n",
    "correlation function for computing similarities between users, and\n",
    "\n",
    "**(c)** the prediction function presented in class for predicting movies scores."
   ]
  },
  {
   "cell_type": "code",
   "execution_count": 3,
   "metadata": {},
   "outputs": [],
   "source": [
    "userA = 1\n",
    "userB = 10\n",
    "movieP = 1"
   ]
  },
  {
   "cell_type": "code",
   "execution_count": 4,
   "metadata": {},
   "outputs": [
    {
     "name": "stdout",
     "output_type": "stream",
     "text": [
      "Pearson correlation coefficient between user 1 and 10 is -0.15121755406386428\n"
     ]
    }
   ],
   "source": [
    "sim = UBCF.sim_pcc(userA, userB)\n",
    "print(f'Pearson correlation coefficient between user {userA} and {userB} is {sim}')"
   ]
  },
  {
   "cell_type": "markdown",
   "metadata": {},
   "source": [
    "$$sim^{PCC}(a, b) = \\frac{\\sum_{p \\in P} (r_{a,p} - \\bar{r_a})(r_{b,p} - \\bar{r_b})}{\\sqrt{\\sum_{p \\in P}(r_{a,p} - \\bar{r_a})^2}\\sqrt{\\sum_{p \\in P}(r_{b,p} - \\bar{r_b})^2}}$$"
   ]
  },
  {
   "cell_type": "code",
   "execution_count": 5,
   "metadata": {},
   "outputs": [
    {
     "name": "stdout",
     "output_type": "stream",
     "text": [
      "Prediction for the rating of movie 1 rating by user 1 is 4.5574254096356075\n"
     ]
    }
   ],
   "source": [
    "neighbors = UBCF.top_n_similar_users(30)\n",
    "prediction = UBCF.prediction_from_neighbors(userA, movieP, neighbors)\n",
    "print(f'Prediction for the rating of movie {movieP} rating by user {userA} is {prediction}')"
   ]
  },
  {
   "cell_type": "markdown",
   "metadata": {},
   "source": [
    "$$pred(a,p)=\\bar{r_a} + \\frac{\\sum_{b \\in N}sim(a,b)\\cdot(r_{b,p}-\\bar{r_b})}{\\sum_{b \\in N}sim(a,b)}$$"
   ]
  },
  {
   "cell_type": "markdown",
   "metadata": {},
   "source": [
    "**(d)** Select a user from the dataset, and for this user, show the 10 most similar users and\n",
    "the 10 most relevant movies that the recommender suggests."
   ]
  },
  {
   "cell_type": "code",
   "execution_count": 6,
   "metadata": {},
   "outputs": [
    {
     "name": "stdout",
     "output_type": "stream",
     "text": [
      " userId  similarity\n",
      "     77    1.000000\n",
      "     12    1.000000\n",
      "     85    1.000000\n",
      "    253    1.000000\n",
      "    291    1.000000\n",
      "    358    1.000000\n",
      "    388    1.000000\n",
      "      2    1.000000\n",
      "    146    0.999050\n",
      "    278    0.971061\n"
     ]
    }
   ],
   "source": [
    "similar_users = UBCF.top_n_similar_users(userA, n=10)\n",
    "sim_users_df = pandas.DataFrame(similar_users, columns=['userId', 'similarity'])\n",
    "\n",
    "print(sim_users_df.to_string(index=False))"
   ]
  },
  {
   "cell_type": "code",
   "execution_count": 7,
   "metadata": {},
   "outputs": [
    {
     "name": "stdout",
     "output_type": "stream",
     "text": [
      " movieId  prediction\n",
      "     319    6.769157\n",
      "    3567    6.726379\n",
      "     555    6.641379\n",
      "     913    6.252743\n",
      "   55276    6.252743\n",
      "   30803    6.225754\n",
      "    3972    6.223522\n",
      "   27611    6.223522\n",
      "    5066    6.110282\n",
      "   42728    6.110282\n"
     ]
    }
   ],
   "source": [
    "top_rec = UBCF.top_n_recommendations(userA)\n",
    "top_rec_df = pandas.DataFrame(top_rec, columns=['movieId', 'prediction'])\n",
    "\n",
    "print(top_rec_df.to_string(index=False))"
   ]
  }
 ],
 "metadata": {
  "language_info": {
   "name": "python"
  }
 },
 "nbformat": 4,
 "nbformat_minor": 2
}
