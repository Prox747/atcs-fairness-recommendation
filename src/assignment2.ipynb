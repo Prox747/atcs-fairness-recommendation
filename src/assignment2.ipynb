{
 "cells": [
  {
   "cell_type": "markdown",
   "metadata": {},
   "source": [
    "### *Assignment 2*: Group Recommendations"
   ]
  },
  {
   "cell_type": "code",
   "execution_count": 6,
   "metadata": {},
   "outputs": [],
   "source": [
    "from group_recommendation import GroupRecommendation\n",
    "\n",
    "userGroup = [1, 50, 600]"
   ]
  },
  {
   "cell_type": "markdown",
   "metadata": {},
   "source": [
    "**(a)** For producing group recommendation, we will use the user-based collaborative\n",
    "filtering approach as this implemented in Assignment 1. Specifically, for producing group\n",
    "recommendations, we will first compute the movies recommendations for each user in\n",
    "the group, and then we will aggregate the lists of the individual users, so as to produce a\n",
    "single list of movies for the group.\n",
    "\n",
    "You will implement two well established aggregation methods for producing the group\n",
    "recommendations.\n",
    "\n",
    "The first aggregation approach is the average method. The main idea behind this\n",
    "approach is that all members are considered equals. So, the rating of an item for a group\n",
    "of users will be given be averaging the scores of an item across all group members.\n",
    "The second aggregation method is the least misery method, where one member can act\n",
    "as a veto for the rest of the group. In this case, the rating of an item for a group of users is\n",
    "computed as the minimum score assigned to that item in all group members\n",
    "recommendations.\n",
    "\n",
    "Produce a group of 3 users, and for this group, show the top-10 recommendations, i.e.,\n",
    "the 10 movies with the highest prediction scores that: \n",
    "1. the average method suggests,\n",
    "2. the least misery method suggests. \n"
   ]
  },
  {
   "cell_type": "code",
   "execution_count": 7,
   "metadata": {},
   "outputs": [
    {
     "data": {
      "text/plain": [
       "{319: [6.769157088122605],\n",
       " 3567: [6.726379310344827],\n",
       " 555: [6.641379310344828],\n",
       " 913: [6.252742946708464],\n",
       " 55276: [6.252742946708464],\n",
       " 30803: [6.225754310344827, 4.850855996068152],\n",
       " 3972: [6.223522167487685, 4.63778801843318, 4.468753723340879],\n",
       " 27611: [6.223522167487685],\n",
       " 5066: [6.110281749369218, 4.524547600314714],\n",
       " 42728: [6.110281749369218, 4.524547600314714],\n",
       " 5014: [4.841251221896384],\n",
       " 55052: [4.524547600314714],\n",
       " 2289: [4.468333955200913],\n",
       " 1616: [4.420645161290323],\n",
       " 2997: [4.413099281098879],\n",
       " 1376: [4.405645161290323],\n",
       " 475: [4.388052568697731],\n",
       " 1204: [4.710835834777829],\n",
       " 3469: [4.562909567496724],\n",
       " 785: [4.515290519877675],\n",
       " 1233: [4.511253119489238],\n",
       " 222: [4.468753723340879],\n",
       " 1019: [4.468753723340879],\n",
       " 2924: [4.468753723340879],\n",
       " 1658: [4.459566102451131]}"
      ]
     },
     "execution_count": 7,
     "metadata": {},
     "output_type": "execute_result"
    }
   ],
   "source": [
    "GroupRecommendation.aggregate_users_recommendations(userGroup)"
   ]
  },
  {
   "cell_type": "code",
   "execution_count": 8,
   "metadata": {},
   "outputs": [
    {
     "data": {
      "text/plain": [
       "[(319, 6.769157088122605),\n",
       " (3567, 6.726379310344827),\n",
       " (555, 6.641379310344828),\n",
       " (913, 6.252742946708464),\n",
       " (55276, 6.252742946708464),\n",
       " (27611, 6.223522167487685),\n",
       " (30803, 5.5383051532064895),\n",
       " (5066, 5.317414674841966),\n",
       " (42728, 5.317414674841966),\n",
       " (3972, 5.1100213030872474)]"
      ]
     },
     "execution_count": 8,
     "metadata": {},
     "output_type": "execute_result"
    }
   ],
   "source": [
    "GroupRecommendation.average_aggregation(userGroup)"
   ]
  },
  {
   "cell_type": "code",
   "execution_count": 9,
   "metadata": {},
   "outputs": [
    {
     "data": {
      "text/plain": [
       "[(319, 6.769157088122605),\n",
       " (3567, 6.726379310344827),\n",
       " (555, 6.641379310344828),\n",
       " (913, 6.252742946708464),\n",
       " (55276, 6.252742946708464),\n",
       " (27611, 6.223522167487685),\n",
       " (30803, 4.850855996068152),\n",
       " (5014, 4.841251221896384),\n",
       " (1204, 4.710835834777829),\n",
       " (3469, 4.562909567496724)]"
      ]
     },
     "execution_count": 9,
     "metadata": {},
     "output_type": "execute_result"
    }
   ],
   "source": [
    "GroupRecommendation.least_misery_aggregation(userGroup)"
   ]
  }
 ],
 "metadata": {
  "kernelspec": {
   "display_name": ".venv",
   "language": "python",
   "name": "python3"
  },
  "language_info": {
   "codemirror_mode": {
    "name": "ipython",
    "version": 3
   },
   "file_extension": ".py",
   "mimetype": "text/x-python",
   "name": "python",
   "nbconvert_exporter": "python",
   "pygments_lexer": "ipython3",
   "version": "3.11.3"
  }
 },
 "nbformat": 4,
 "nbformat_minor": 2
}
